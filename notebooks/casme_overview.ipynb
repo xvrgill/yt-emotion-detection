{
 "cells": [
  {
   "cell_type": "markdown",
   "source": [
    "# Overview of CASME Dataset"
   ],
   "metadata": {
    "collapsed": false
   }
  },
  {
   "cell_type": "code",
   "execution_count": 1,
   "metadata": {
    "collapsed": true
   },
   "outputs": [],
   "source": [
    "import pandas as pd\n",
    "from dotenv import load_dotenv\n",
    "import os\n",
    "from pathlib import Path\n",
    "import numpy as np\n",
    "\n",
    "load_dotenv()\n",
    "casme_path = os.getenv('CASME_PATH')"
   ]
  },
  {
   "cell_type": "markdown",
   "source": [
    "## Previewing Encodings"
   ],
   "metadata": {
    "collapsed": false
   }
  },
  {
   "cell_type": "code",
   "execution_count": 2,
   "outputs": [],
   "source": [
    "encodings_path = Path('CASME-coded-20190721.xls')\n",
    "encoding_df = (pd\n",
    "               .read_excel(Path(casme_path).joinpath(encodings_path))\n",
    "               .drop(columns=[\"Unnamed: 2\", \"Unnamed: 7\"])\n",
    "               .replace('\\\\', np.nan))"
   ],
   "metadata": {
    "collapsed": false
   }
  },
  {
   "cell_type": "code",
   "execution_count": 3,
   "outputs": [
    {
     "data": {
      "text/plain": "   Subject Filename  OnsetF  ApexF1  ApexF2  OffsetF       Onset       Total  \\\n0        1  EP01_12      73      81     NaN       91  150.000000  316.666667   \n1        1  EP01_13      63      69     NaN       77  116.666667  250.000000   \n2        1   EP01_5     113     121   125.0      133  150.000000  350.000000   \n3        1   EP01_8      67      75     NaN       81  150.000000  250.000000   \n4        1   EP03_1      79      91    95.0      105  216.666667  450.000000   \n\n     AU     Emotion  \n0     4       tense  \n1     4       tense  \n2    12   happiness  \n3    14  repression  \n4  4+17  repression  ",
      "text/html": "<div>\n<style scoped>\n    .dataframe tbody tr th:only-of-type {\n        vertical-align: middle;\n    }\n\n    .dataframe tbody tr th {\n        vertical-align: top;\n    }\n\n    .dataframe thead th {\n        text-align: right;\n    }\n</style>\n<table border=\"1\" class=\"dataframe\">\n  <thead>\n    <tr style=\"text-align: right;\">\n      <th></th>\n      <th>Subject</th>\n      <th>Filename</th>\n      <th>OnsetF</th>\n      <th>ApexF1</th>\n      <th>ApexF2</th>\n      <th>OffsetF</th>\n      <th>Onset</th>\n      <th>Total</th>\n      <th>AU</th>\n      <th>Emotion</th>\n    </tr>\n  </thead>\n  <tbody>\n    <tr>\n      <th>0</th>\n      <td>1</td>\n      <td>EP01_12</td>\n      <td>73</td>\n      <td>81</td>\n      <td>NaN</td>\n      <td>91</td>\n      <td>150.000000</td>\n      <td>316.666667</td>\n      <td>4</td>\n      <td>tense</td>\n    </tr>\n    <tr>\n      <th>1</th>\n      <td>1</td>\n      <td>EP01_13</td>\n      <td>63</td>\n      <td>69</td>\n      <td>NaN</td>\n      <td>77</td>\n      <td>116.666667</td>\n      <td>250.000000</td>\n      <td>4</td>\n      <td>tense</td>\n    </tr>\n    <tr>\n      <th>2</th>\n      <td>1</td>\n      <td>EP01_5</td>\n      <td>113</td>\n      <td>121</td>\n      <td>125.0</td>\n      <td>133</td>\n      <td>150.000000</td>\n      <td>350.000000</td>\n      <td>12</td>\n      <td>happiness</td>\n    </tr>\n    <tr>\n      <th>3</th>\n      <td>1</td>\n      <td>EP01_8</td>\n      <td>67</td>\n      <td>75</td>\n      <td>NaN</td>\n      <td>81</td>\n      <td>150.000000</td>\n      <td>250.000000</td>\n      <td>14</td>\n      <td>repression</td>\n    </tr>\n    <tr>\n      <th>4</th>\n      <td>1</td>\n      <td>EP03_1</td>\n      <td>79</td>\n      <td>91</td>\n      <td>95.0</td>\n      <td>105</td>\n      <td>216.666667</td>\n      <td>450.000000</td>\n      <td>4+17</td>\n      <td>repression</td>\n    </tr>\n  </tbody>\n</table>\n</div>"
     },
     "execution_count": 3,
     "metadata": {},
     "output_type": "execute_result"
    }
   ],
   "source": [
    "encoding_df.head()"
   ],
   "metadata": {
    "collapsed": false
   }
  },
  {
   "cell_type": "code",
   "execution_count": 4,
   "outputs": [
    {
     "name": "stdout",
     "output_type": "stream",
     "text": [
      "<class 'pandas.core.frame.DataFrame'>\n",
      "RangeIndex: 193 entries, 0 to 192\n",
      "Data columns (total 10 columns):\n",
      " #   Column    Non-Null Count  Dtype  \n",
      "---  ------    --------------  -----  \n",
      " 0   Subject   193 non-null    int64  \n",
      " 1   Filename  193 non-null    object \n",
      " 2   OnsetF    193 non-null    int64  \n",
      " 3   ApexF1    193 non-null    int64  \n",
      " 4   ApexF2    125 non-null    float64\n",
      " 5   OffsetF   193 non-null    int64  \n",
      " 6   Onset     193 non-null    float64\n",
      " 7   Total     193 non-null    float64\n",
      " 8   AU        193 non-null    object \n",
      " 9   Emotion   193 non-null    object \n",
      "dtypes: float64(3), int64(4), object(3)\n",
      "memory usage: 15.2+ KB\n"
     ]
    }
   ],
   "source": [
    "encoding_df.info()"
   ],
   "metadata": {
    "collapsed": false
   }
  },
  {
   "cell_type": "markdown",
   "source": [
    "## Encoding Feature Descriptions"
   ],
   "metadata": {
    "collapsed": false
   }
  },
  {
   "cell_type": "markdown",
   "source": [
    "### Subject\n",
    "\n",
    "Numer (or id of sorts) given to a particular participant.\n",
    "\n",
    "### Filename\n",
    "\n",
    "The names of the video clips or directories containing the associated frames as images.\n",
    "\n",
    "### OnsetF\n",
    "\n",
    "The first frame for the micro-expression.\n",
    "\n",
    "### Apex1\n",
    "\n",
    "The first frame of the apex phase of the micro-expression.\n",
    "\n",
    "### Apex2\n",
    "\n",
    "The last frame of the apex phase of the micro-expression.\n",
    "\n",
    "### OffsetF\n",
    "\n",
    "The last frame of the micro expression.\n",
    "\n",
    "### Onset\n",
    "\n",
    "The duration from onset to apex 1 (the first frame of the apex phase of the micro-expression).\n",
    "\n",
    "### Total\n",
    "\n",
    "The duration from onset to offset.\n",
    "\n",
    "### AU\n",
    "\n",
    "Action units present in the video. Used to code a given emotion to each instance.\n",
    "\n",
    "Emotion labeling is based **partly** on the AUs because micro-expressions are typically partial when given in low intensity. The self reports of the participants and the content of the video episodes were also used in labelling to account for htis.\n",
    "\n",
    "Criteria for labelling using action units can be found in the `CASME.pdf` document in table 4.\n",
    "\n",
    "### Emotion\n",
    "\n",
    "The estimated emotion.\n",
    "\n",
    "NOTE:\n",
    "\n",
    "1. Amusement (in FG2013 paper) was replaced with happiness.\n",
    "2. AU4 alone is difficult to judge which emotion it conveys.\n",
    "It may indicate disgust, anger or attention/interest; we thus label \"AU4\" as \"tense\"\n",
    "(for the moment). There are only very few micro-expression for some categories, so it\n",
    "is also plausible to remove some categories for training and test, such as fear."
   ],
   "metadata": {
    "collapsed": false
   }
  }
 ],
 "metadata": {
  "kernelspec": {
   "display_name": "Python 3",
   "language": "python",
   "name": "python3"
  },
  "language_info": {
   "codemirror_mode": {
    "name": "ipython",
    "version": 2
   },
   "file_extension": ".py",
   "mimetype": "text/x-python",
   "name": "python",
   "nbconvert_exporter": "python",
   "pygments_lexer": "ipython2",
   "version": "2.7.6"
  }
 },
 "nbformat": 4,
 "nbformat_minor": 0
}
